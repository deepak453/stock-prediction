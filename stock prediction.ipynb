{
 "cells": [
  {
   "cell_type": "code",
   "execution_count": 2,
   "source": [
    "import pandas as pd"
   ],
   "outputs": [],
   "metadata": {}
  },
  {
   "cell_type": "code",
   "execution_count": 3,
   "source": [
    "df=pd.read_csv(\"NSE-TATAGLOBAL11.csv\")"
   ],
   "outputs": [],
   "metadata": {}
  },
  {
   "cell_type": "code",
   "execution_count": 4,
   "source": [
    "df.head()\n",
    "df.tail()"
   ],
   "outputs": [
    {
     "output_type": "execute_result",
     "data": {
      "text/html": [
       "<div>\n",
       "<style scoped>\n",
       "    .dataframe tbody tr th:only-of-type {\n",
       "        vertical-align: middle;\n",
       "    }\n",
       "\n",
       "    .dataframe tbody tr th {\n",
       "        vertical-align: top;\n",
       "    }\n",
       "\n",
       "    .dataframe thead th {\n",
       "        text-align: right;\n",
       "    }\n",
       "</style>\n",
       "<table border=\"1\" class=\"dataframe\">\n",
       "  <thead>\n",
       "    <tr style=\"text-align: right;\">\n",
       "      <th></th>\n",
       "      <th>Date</th>\n",
       "      <th>Open</th>\n",
       "      <th>High</th>\n",
       "      <th>Low</th>\n",
       "      <th>Last</th>\n",
       "      <th>Close</th>\n",
       "      <th>Total Trade Quantity</th>\n",
       "      <th>Turnover (Lacs)</th>\n",
       "    </tr>\n",
       "  </thead>\n",
       "  <tbody>\n",
       "    <tr>\n",
       "      <th>1230</th>\n",
       "      <td>2013-10-14</td>\n",
       "      <td>160.85</td>\n",
       "      <td>161.45</td>\n",
       "      <td>157.70</td>\n",
       "      <td>159.3</td>\n",
       "      <td>159.45</td>\n",
       "      <td>1281419.0</td>\n",
       "      <td>2039.09</td>\n",
       "    </tr>\n",
       "    <tr>\n",
       "      <th>1231</th>\n",
       "      <td>2013-10-11</td>\n",
       "      <td>161.15</td>\n",
       "      <td>163.45</td>\n",
       "      <td>159.00</td>\n",
       "      <td>159.8</td>\n",
       "      <td>160.05</td>\n",
       "      <td>1880046.0</td>\n",
       "      <td>3030.76</td>\n",
       "    </tr>\n",
       "    <tr>\n",
       "      <th>1232</th>\n",
       "      <td>2013-10-10</td>\n",
       "      <td>156.00</td>\n",
       "      <td>160.80</td>\n",
       "      <td>155.85</td>\n",
       "      <td>160.3</td>\n",
       "      <td>160.15</td>\n",
       "      <td>3124853.0</td>\n",
       "      <td>4978.80</td>\n",
       "    </tr>\n",
       "    <tr>\n",
       "      <th>1233</th>\n",
       "      <td>2013-10-09</td>\n",
       "      <td>155.70</td>\n",
       "      <td>158.20</td>\n",
       "      <td>154.15</td>\n",
       "      <td>155.3</td>\n",
       "      <td>155.55</td>\n",
       "      <td>2049580.0</td>\n",
       "      <td>3204.49</td>\n",
       "    </tr>\n",
       "    <tr>\n",
       "      <th>1234</th>\n",
       "      <td>2013-10-08</td>\n",
       "      <td>157.00</td>\n",
       "      <td>157.80</td>\n",
       "      <td>155.20</td>\n",
       "      <td>155.8</td>\n",
       "      <td>155.80</td>\n",
       "      <td>1720413.0</td>\n",
       "      <td>2688.94</td>\n",
       "    </tr>\n",
       "  </tbody>\n",
       "</table>\n",
       "</div>"
      ],
      "text/plain": [
       "            Date    Open    High     Low   Last   Close  Total Trade Quantity  \\\n",
       "1230  2013-10-14  160.85  161.45  157.70  159.3  159.45             1281419.0   \n",
       "1231  2013-10-11  161.15  163.45  159.00  159.8  160.05             1880046.0   \n",
       "1232  2013-10-10  156.00  160.80  155.85  160.3  160.15             3124853.0   \n",
       "1233  2013-10-09  155.70  158.20  154.15  155.3  155.55             2049580.0   \n",
       "1234  2013-10-08  157.00  157.80  155.20  155.8  155.80             1720413.0   \n",
       "\n",
       "      Turnover (Lacs)  \n",
       "1230          2039.09  \n",
       "1231          3030.76  \n",
       "1232          4978.80  \n",
       "1233          3204.49  \n",
       "1234          2688.94  "
      ]
     },
     "metadata": {},
     "execution_count": 4
    }
   ],
   "metadata": {}
  },
  {
   "cell_type": "code",
   "execution_count": 4,
   "source": [
    "df1=df.reset_index()['Close']"
   ],
   "outputs": [],
   "metadata": {}
  },
  {
   "cell_type": "code",
   "execution_count": 5,
   "source": [
    "df1.head()"
   ],
   "outputs": [
    {
     "output_type": "execute_result",
     "data": {
      "text/plain": [
       "0    215.15\n",
       "1    209.20\n",
       "2    218.20\n",
       "3    227.60\n",
       "4    230.90\n",
       "Name: Close, dtype: float64"
      ]
     },
     "metadata": {},
     "execution_count": 5
    }
   ],
   "metadata": {}
  },
  {
   "cell_type": "code",
   "execution_count": 6,
   "source": [
    "df1.shape"
   ],
   "outputs": [
    {
     "output_type": "execute_result",
     "data": {
      "text/plain": [
       "(1235,)"
      ]
     },
     "metadata": {},
     "execution_count": 6
    }
   ],
   "metadata": {}
  },
  {
   "cell_type": "code",
   "execution_count": 7,
   "source": [
    "import matplotlib.pyplot as plt"
   ],
   "outputs": [],
   "metadata": {}
  },
  {
   "cell_type": "code",
   "execution_count": 8,
   "source": [
    "plt.plot(df1)"
   ],
   "outputs": [
    {
     "output_type": "execute_result",
     "data": {
      "text/plain": [
       "[<matplotlib.lines.Line2D at 0x19b70499a00>]"
      ]
     },
     "metadata": {},
     "execution_count": 8
    },
    {
     "output_type": "display_data",
     "data": {
      "image/png": "[encoded data removed]",
      "text/plain": [
       "<Figure size 432x288 with 1 Axes>"
      ]
     },
     "metadata": {
      "needs_background": "light"
     }
    }
   ],
   "metadata": {}
  },
  {
   "cell_type": "code",
   "execution_count": 9,
   "source": [
    "import numpy as np"
   ],
   "outputs": [],
   "metadata": {}
  },
  {
   "cell_type": "code",
   "execution_count": 10,
   "source": [
    "from sklearn.preprocessing import MinMaxScaler\n",
    "scaler=MinMaxScaler(feature_range=(0,1))"
   ],
   "outputs": [],
   "metadata": {}
  },
  {
   "cell_type": "code",
   "execution_count": 11,
   "source": [
    "df1=scaler.fit_transform(np.array(df1).reshape(-1,1))"
   ],
   "outputs": [],
   "metadata": {}
  },
  {
   "cell_type": "code",
   "execution_count": 12,
   "source": [
    "df1.shape"
   ],
   "outputs": [
    {
     "output_type": "execute_result",
     "data": {
      "text/plain": [
       "(1235, 1)"
      ]
     },
     "metadata": {},
     "execution_count": 12
    }
   ],
   "metadata": {}
  },
  {
   "cell_type": "code",
   "execution_count": 13,
   "source": [
    "df1"
   ],
   "outputs": [
    {
     "output_type": "execute_result",
     "data": {
      "text/plain": [
       "array([[0.50425818],\n",
       "       [0.47758853],\n",
       "       [0.51792918],\n",
       "       ...,\n",
       "       [0.25773196],\n",
       "       [0.2371134 ],\n",
       "       [0.23823398]])"
      ]
     },
     "metadata": {},
     "execution_count": 13
    }
   ],
   "metadata": {}
  },
  {
   "cell_type": "code",
   "execution_count": 39,
   "source": [
    "training_size=int(len(df1)*0.70)\n",
    "test_size=len(df1)-training_size\n",
    "train_data,test_data=df1[0:training_size,:],df1[training_size:len(df1),:1]"
   ],
   "outputs": [],
   "metadata": {}
  },
  {
   "cell_type": "code",
   "execution_count": 40,
   "source": [
    "training_size,test_size"
   ],
   "outputs": [
    {
     "output_type": "execute_result",
     "data": {
      "text/plain": [
       "(864, 371)"
      ]
     },
     "metadata": {},
     "execution_count": 40
    }
   ],
   "metadata": {}
  },
  {
   "cell_type": "code",
   "execution_count": 41,
   "source": [
    "import numpy"
   ],
   "outputs": [],
   "metadata": {}
  },
  {
   "cell_type": "code",
   "execution_count": 42,
   "source": [
    "def create_dataset(dataset,time_step=1):\n",
    "\n",
    "    dataX,dataY=[],[]\n",
    "    for i in range(len(dataset)-time_step-1):\n",
    "        a=dataset[i:(i+time_step),0]\n",
    "        dataX.append(a)\n",
    "        dataY.append(dataset[i+time_step,0])\n",
    "    return numpy.array(dataX),numpy.array(dataY)"
   ],
   "outputs": [],
   "metadata": {}
  },
  {
   "cell_type": "code",
   "execution_count": 43,
   "source": [
    "time_step=100\n",
    "x_train,y_train=create_dataset(train_data,time_step)\n",
    "x_test,y_test=create_dataset(test_data,time_step)"
   ],
   "outputs": [],
   "metadata": {}
  },
  {
   "cell_type": "code",
   "execution_count": 44,
   "source": [
    "print(x_train)"
   ],
   "outputs": [
    {
     "output_type": "stream",
     "name": "stdout",
     "text": [
      "[[0.50425818 0.47758853 0.51792918 ... 0.64926042 0.62057373 0.62752129]\n",
      " [0.47758853 0.51792918 0.56006275 ... 0.62057373 0.62752129 0.6869117 ]\n",
      " [0.51792918 0.56006275 0.57485433 ... 0.62752129 0.6869117  0.82855222]\n",
      " ...\n",
      " [0.082026   0.07978485 0.07866428 ... 0.21313312 0.21066786 0.21313312]\n",
      " [0.07978485 0.07866428 0.09636934 ... 0.21066786 0.21313312 0.22680412]\n",
      " [0.07866428 0.09636934 0.07261318 ... 0.21313312 0.22680412 0.24607799]]\n"
     ]
    }
   ],
   "metadata": {}
  },
  {
   "cell_type": "code",
   "execution_count": 45,
   "source": [
    "print(x_test.shape),print(y_test.shape)"
   ],
   "outputs": [
    {
     "output_type": "stream",
     "name": "stdout",
     "text": [
      "(270, 100)\n",
      "(270,)\n"
     ]
    },
    {
     "output_type": "execute_result",
     "data": {
      "text/plain": [
       "(None, None)"
      ]
     },
     "metadata": {},
     "execution_count": 45
    }
   ],
   "metadata": {}
  },
  {
   "cell_type": "code",
   "execution_count": 46,
   "source": [
    "x_train=x_train.reshape(x_train.shape[0],x_train.shape[1],1)\n",
    "x_test=x_test.reshape(x_test.shape[0],x_test.shape[1],1)"
   ],
   "outputs": [],
   "metadata": {}
  },
  {
   "cell_type": "code",
   "execution_count": 47,
   "source": [
    "from tensorflow.keras.models import Sequential\n",
    "from tensorflow.keras.layers import Dense\n",
    "from tensorflow.keras.layers import LSTM"
   ],
   "outputs": [],
   "metadata": {}
  },
  {
   "cell_type": "code",
   "execution_count": 48,
   "source": [
    "model=Sequential()\n",
    "model.add(LSTM(50,return_sequences=True,input_shape=(100,1)))\n",
    "model.add(LSTM(50,return_sequences=True))\n",
    "model.add(LSTM(50))\n",
    "model.add(Dense(1))\n",
    "model.compile(loss=\"mean_squared_error\", optimizer=\"adam\")"
   ],
   "outputs": [],
   "metadata": {}
  },
  {
   "cell_type": "code",
   "execution_count": 49,
   "source": [
    "model.summary()"
   ],
   "outputs": [
    {
     "output_type": "stream",
     "name": "stdout",
     "text": [
      "Model: \"sequential_1\"\n",
      "_________________________________________________________________\n",
      "Layer (type)                 Output Shape              Param #   \n",
      "=================================================================\n",
      "lstm_3 (LSTM)                (None, 100, 50)           10400     \n",
      "_________________________________________________________________\n",
      "lstm_4 (LSTM)                (None, 100, 50)           20200     \n",
      "_________________________________________________________________\n",
      "lstm_5 (LSTM)                (None, 50)                20200     \n",
      "_________________________________________________________________\n",
      "dense_1 (Dense)              (None, 1)                 51        \n",
      "=================================================================\n",
      "Total params: 50,851\n",
      "Trainable params: 50,851\n",
      "Non-trainable params: 0\n",
      "_________________________________________________________________\n"
     ]
    }
   ],
   "metadata": {}
  },
  {
   "cell_type": "code",
   "execution_count": 50,
   "source": [
    "model.fit(x_train,y_train,validation_data=(x_test,y_test),epochs=100,batch_size=64,verbose=1)"
   ],
   "outputs": [
    {
     "output_type": "stream",
     "name": "stdout",
     "text": [
      "Epoch 1/100\n",
      "12/12 [==============================] - 10s 327ms/step - loss: 0.0410 - val_loss: 0.0017\n",
      "Epoch 2/100\n",
      "12/12 [==============================] - 2s 153ms/step - loss: 0.0095 - val_loss: 0.0010\n",
      "Epoch 3/100\n",
      "12/12 [==============================] - 2s 149ms/step - loss: 0.0037 - val_loss: 0.0011\n",
      "Epoch 4/100\n",
      "12/12 [==============================] - 2s 151ms/step - loss: 0.0031 - val_loss: 0.0010\n",
      "Epoch 5/100\n",
      "12/12 [==============================] - 2s 151ms/step - loss: 0.0025 - val_loss: 0.0011\n",
      "Epoch 6/100\n",
      "12/12 [==============================] - 2s 150ms/step - loss: 0.0024 - val_loss: 0.0012\n",
      "Epoch 7/100\n",
      "12/12 [==============================] - 2s 151ms/step - loss: 0.0024 - val_loss: 0.0011\n",
      "Epoch 8/100\n",
      "12/12 [==============================] - 2s 152ms/step - loss: 0.0023 - val_loss: 0.0010\n",
      "Epoch 9/100\n",
      "12/12 [==============================] - 2s 149ms/step - loss: 0.0022 - val_loss: 0.0010\n",
      "Epoch 10/100\n",
      "12/12 [==============================] - 2s 163ms/step - loss: 0.0021 - val_loss: 0.0011\n",
      "Epoch 11/100\n",
      "12/12 [==============================] - 2s 154ms/step - loss: 0.0020 - val_loss: 0.0012\n",
      "Epoch 12/100\n",
      "12/12 [==============================] - 2s 152ms/step - loss: 0.0021 - val_loss: 0.0015\n",
      "Epoch 13/100\n",
      "12/12 [==============================] - 2s 187ms/step - loss: 0.0022 - val_loss: 9.8482e-04\n",
      "Epoch 14/100\n",
      "12/12 [==============================] - 2s 187ms/step - loss: 0.0021 - val_loss: 8.5881e-04\n",
      "Epoch 15/100\n",
      "12/12 [==============================] - 2s 193ms/step - loss: 0.0020 - val_loss: 8.1529e-04\n",
      "Epoch 16/100\n",
      "12/12 [==============================] - 2s 198ms/step - loss: 0.0018 - val_loss: 9.3744e-04\n",
      "Epoch 17/100\n",
      "12/12 [==============================] - 2s 198ms/step - loss: 0.0017 - val_loss: 8.8850e-04\n",
      "Epoch 18/100\n",
      "12/12 [==============================] - 3s 214ms/step - loss: 0.0016 - val_loss: 8.3701e-04\n",
      "Epoch 19/100\n",
      "12/12 [==============================] - 2s 207ms/step - loss: 0.0015 - val_loss: 7.9837e-04\n",
      "Epoch 20/100\n",
      "12/12 [==============================] - 2s 201ms/step - loss: 0.0015 - val_loss: 8.8767e-04\n",
      "Epoch 21/100\n",
      "12/12 [==============================] - 2s 202ms/step - loss: 0.0015 - val_loss: 8.0614e-04\n",
      "Epoch 22/100\n",
      "12/12 [==============================] - 2s 200ms/step - loss: 0.0017 - val_loss: 9.8369e-04\n",
      "Epoch 23/100\n",
      "12/12 [==============================] - 2s 195ms/step - loss: 0.0014 - val_loss: 7.9133e-04\n",
      "Epoch 24/100\n",
      "12/12 [==============================] - 2s 204ms/step - loss: 0.0016 - val_loss: 8.1686e-04\n",
      "Epoch 25/100\n",
      "12/12 [==============================] - 2s 209ms/step - loss: 0.0015 - val_loss: 7.8752e-04\n",
      "Epoch 26/100\n",
      "12/12 [==============================] - 2s 196ms/step - loss: 0.0014 - val_loss: 7.5079e-04\n",
      "Epoch 27/100\n",
      "12/12 [==============================] - 2s 193ms/step - loss: 0.0013 - val_loss: 7.8451e-04\n",
      "Epoch 28/100\n",
      "12/12 [==============================] - 2s 193ms/step - loss: 0.0014 - val_loss: 7.8099e-04\n",
      "Epoch 29/100\n",
      "12/12 [==============================] - 2s 198ms/step - loss: 0.0012 - val_loss: 7.8762e-04\n",
      "Epoch 30/100\n",
      "12/12 [==============================] - 2s 205ms/step - loss: 0.0012 - val_loss: 7.1083e-04\n",
      "Epoch 31/100\n",
      "12/12 [==============================] - 3s 230ms/step - loss: 0.0012 - val_loss: 8.5164e-04\n",
      "Epoch 32/100\n",
      "12/12 [==============================] - 2s 199ms/step - loss: 0.0012 - val_loss: 6.5601e-04\n",
      "Epoch 33/100\n",
      "12/12 [==============================] - 2s 202ms/step - loss: 0.0012 - val_loss: 7.7774e-04\n",
      "Epoch 34/100\n",
      "12/12 [==============================] - 2s 207ms/step - loss: 0.0012 - val_loss: 6.4906e-04\n",
      "Epoch 35/100\n",
      "12/12 [==============================] - 2s 200ms/step - loss: 0.0012 - val_loss: 7.9259e-04\n",
      "Epoch 36/100\n",
      "12/12 [==============================] - 2s 206ms/step - loss: 0.0012 - val_loss: 6.4277e-04\n",
      "Epoch 37/100\n",
      "12/12 [==============================] - 3s 218ms/step - loss: 0.0015 - val_loss: 0.0011\n",
      "Epoch 38/100\n",
      "12/12 [==============================] - 3s 231ms/step - loss: 0.0012 - val_loss: 6.2588e-04\n",
      "Epoch 39/100\n",
      "12/12 [==============================] - 2s 209ms/step - loss: 0.0012 - val_loss: 0.0010\n",
      "Epoch 40/100\n",
      "12/12 [==============================] - 2s 203ms/step - loss: 0.0013 - val_loss: 6.2761e-04\n",
      "Epoch 41/100\n",
      "12/12 [==============================] - 2s 203ms/step - loss: 0.0013 - val_loss: 6.4066e-04\n",
      "Epoch 42/100\n",
      "12/12 [==============================] - 2s 204ms/step - loss: 0.0012 - val_loss: 8.7047e-04\n",
      "Epoch 43/100\n",
      "12/12 [==============================] - 2s 198ms/step - loss: 0.0011 - val_loss: 6.6246e-04\n",
      "Epoch 44/100\n",
      "12/12 [==============================] - 3s 222ms/step - loss: 0.0010 - val_loss: 7.2587e-04\n",
      "Epoch 45/100\n",
      "12/12 [==============================] - 2s 201ms/step - loss: 9.9173e-04 - val_loss: 6.0234e-04\n",
      "Epoch 46/100\n",
      "12/12 [==============================] - 2s 193ms/step - loss: 9.9146e-04 - val_loss: 7.7563e-04\n",
      "Epoch 47/100\n",
      "12/12 [==============================] - 2s 206ms/step - loss: 0.0011 - val_loss: 6.4923e-04\n",
      "Epoch 48/100\n",
      "12/12 [==============================] - 2s 199ms/step - loss: 9.9289e-04 - val_loss: 7.3851e-04\n",
      "Epoch 49/100\n",
      "12/12 [==============================] - 2s 193ms/step - loss: 9.5171e-04 - val_loss: 5.7606e-04\n",
      "Epoch 50/100\n",
      "12/12 [==============================] - 2s 199ms/step - loss: 0.0010 - val_loss: 8.7568e-04\n",
      "Epoch 51/100\n",
      "12/12 [==============================] - 3s 212ms/step - loss: 0.0010 - val_loss: 6.1927e-04\n",
      "Epoch 52/100\n",
      "12/12 [==============================] - 2s 207ms/step - loss: 9.1959e-04 - val_loss: 5.5981e-04\n",
      "Epoch 53/100\n",
      "12/12 [==============================] - 2s 201ms/step - loss: 8.7342e-04 - val_loss: 6.1277e-04\n",
      "Epoch 54/100\n",
      "12/12 [==============================] - 3s 214ms/step - loss: 9.0224e-04 - val_loss: 5.6956e-04\n",
      "Epoch 55/100\n",
      "12/12 [==============================] - 2s 208ms/step - loss: 8.8564e-04 - val_loss: 5.9874e-04\n",
      "Epoch 56/100\n",
      "12/12 [==============================] - 2s 200ms/step - loss: 9.3937e-04 - val_loss: 5.7224e-04\n",
      "Epoch 57/100\n",
      "12/12 [==============================] - 2s 207ms/step - loss: 9.0571e-04 - val_loss: 5.6248e-04\n",
      "Epoch 58/100\n",
      "12/12 [==============================] - 3s 213ms/step - loss: 8.5522e-04 - val_loss: 6.4874e-04\n",
      "Epoch 59/100\n",
      "12/12 [==============================] - 2s 194ms/step - loss: 8.9686e-04 - val_loss: 5.7639e-04 0s - loss: 9.0160e\n",
      "Epoch 60/100\n",
      "12/12 [==============================] - 2s 197ms/step - loss: 8.8507e-04 - val_loss: 5.4389e-04\n",
      "Epoch 61/100\n",
      "12/12 [==============================] - 2s 197ms/step - loss: 8.2248e-04 - val_loss: 6.9318e-04\n",
      "Epoch 62/100\n",
      "12/12 [==============================] - 2s 195ms/step - loss: 8.4411e-04 - val_loss: 5.2730e-04\n",
      "Epoch 63/100\n",
      "12/12 [==============================] - 2s 198ms/step - loss: 7.9290e-04 - val_loss: 5.4989e-04\n",
      "Epoch 64/100\n",
      "12/12 [==============================] - 3s 213ms/step - loss: 8.0206e-04 - val_loss: 5.2543e-04\n",
      "Epoch 65/100\n",
      "12/12 [==============================] - 2s 202ms/step - loss: 8.9601e-04 - val_loss: 6.2405e-04\n",
      "Epoch 66/100\n",
      "12/12 [==============================] - 2s 199ms/step - loss: 0.0011 - val_loss: 5.3086e-04\n",
      "Epoch 67/100\n",
      "12/12 [==============================] - 2s 198ms/step - loss: 0.0012 - val_loss: 8.0392e-04\n",
      "Epoch 68/100\n",
      "12/12 [==============================] - 2s 199ms/step - loss: 0.0013 - val_loss: 4.9228e-04\n",
      "Epoch 69/100\n",
      "12/12 [==============================] - 2s 197ms/step - loss: 0.0011 - val_loss: 6.7773e-04\n",
      "Epoch 70/100\n",
      "12/12 [==============================] - 2s 201ms/step - loss: 8.0919e-04 - val_loss: 6.5556e-04\n",
      "Epoch 71/100\n",
      "12/12 [==============================] - 3s 218ms/step - loss: 8.1351e-04 - val_loss: 5.2615e-04\n",
      "Epoch 72/100\n",
      "12/12 [==============================] - 2s 199ms/step - loss: 7.0470e-04 - val_loss: 6.8618e-04\n",
      "Epoch 73/100\n",
      "12/12 [==============================] - 2s 208ms/step - loss: 8.1525e-04 - val_loss: 4.8000e-04\n",
      "Epoch 74/100\n",
      "12/12 [==============================] - 2s 201ms/step - loss: 8.9265e-04 - val_loss: 4.7015e-04\n",
      "Epoch 75/100\n",
      "12/12 [==============================] - 2s 197ms/step - loss: 6.8834e-04 - val_loss: 4.9310e-04\n",
      "Epoch 76/100\n",
      "12/12 [==============================] - 2s 198ms/step - loss: 6.8882e-04 - val_loss: 6.0845e-04\n",
      "Epoch 77/100\n",
      "12/12 [==============================] - 3s 213ms/step - loss: 6.7280e-04 - val_loss: 5.2333e-04\n"
     ]
    },
    {
     "output_type": "stream",
     "name": "stdout",
     "text": [
      "Epoch 78/100\n",
      "12/12 [==============================] - 3s 214ms/step - loss: 6.3942e-04 - val_loss: 4.5437e-04\n",
      "Epoch 79/100\n",
      "12/12 [==============================] - 2s 204ms/step - loss: 6.5111e-04 - val_loss: 6.1202e-04\n",
      "Epoch 80/100\n",
      "12/12 [==============================] - 2s 199ms/step - loss: 6.3797e-04 - val_loss: 4.9137e-04\n",
      "Epoch 81/100\n",
      "12/12 [==============================] - 2s 196ms/step - loss: 7.7000e-04 - val_loss: 5.3759e-04\n",
      "Epoch 82/100\n",
      "12/12 [==============================] - 2s 198ms/step - loss: 7.2726e-04 - val_loss: 4.3692e-04\n",
      "Epoch 83/100\n",
      "12/12 [==============================] - 2s 196ms/step - loss: 6.0597e-04 - val_loss: 4.7527e-04\n",
      "Epoch 84/100\n",
      "12/12 [==============================] - 3s 215ms/step - loss: 6.5221e-04 - val_loss: 4.3645e-04\n",
      "Epoch 85/100\n",
      "12/12 [==============================] - 2s 204ms/step - loss: 5.8422e-04 - val_loss: 5.1241e-04\n",
      "Epoch 86/100\n",
      "12/12 [==============================] - 2s 198ms/step - loss: 5.9157e-04 - val_loss: 4.1662e-04\n",
      "Epoch 87/100\n",
      "12/12 [==============================] - 2s 198ms/step - loss: 5.6184e-04 - val_loss: 5.7166e-04\n",
      "Epoch 88/100\n",
      "12/12 [==============================] - 2s 202ms/step - loss: 5.7456e-04 - val_loss: 4.1786e-04\n",
      "Epoch 89/100\n",
      "12/12 [==============================] - 2s 198ms/step - loss: 5.8395e-04 - val_loss: 4.8802e-04\n",
      "Epoch 90/100\n",
      "12/12 [==============================] - 2s 204ms/step - loss: 5.9811e-04 - val_loss: 3.9332e-04\n",
      "Epoch 91/100\n",
      "12/12 [==============================] - 3s 214ms/step - loss: 5.4192e-04 - val_loss: 4.9777e-04\n",
      "Epoch 92/100\n",
      "12/12 [==============================] - 2s 199ms/step - loss: 5.1348e-04 - val_loss: 4.0444e-04\n",
      "Epoch 93/100\n",
      "12/12 [==============================] - 2s 199ms/step - loss: 5.2570e-04 - val_loss: 4.9743e-04\n",
      "Epoch 94/100\n",
      "12/12 [==============================] - 2s 196ms/step - loss: 5.2062e-04 - val_loss: 5.3666e-04\n",
      "Epoch 95/100\n",
      "12/12 [==============================] - 2s 198ms/step - loss: 5.2173e-04 - val_loss: 4.4969e-04\n",
      "Epoch 96/100\n",
      "12/12 [==============================] - 2s 196ms/step - loss: 5.7028e-04 - val_loss: 4.2061e-04\n",
      "Epoch 97/100\n",
      "12/12 [==============================] - 2s 207ms/step - loss: 5.5544e-04 - val_loss: 5.7974e-04\n",
      "Epoch 98/100\n",
      "12/12 [==============================] - 3s 215ms/step - loss: 6.6218e-04 - val_loss: 4.5124e-04\n",
      "Epoch 99/100\n",
      "12/12 [==============================] - 2s 198ms/step - loss: 5.6477e-04 - val_loss: 3.5357e-04\n",
      "Epoch 100/100\n",
      "12/12 [==============================] - 2s 196ms/step - loss: 5.4057e-04 - val_loss: 4.1814e-04\n"
     ]
    },
    {
     "output_type": "execute_result",
     "data": {
      "text/plain": [
       "<keras.callbacks.History at 0x19b0c5125b0>"
      ]
     },
     "metadata": {},
     "execution_count": 50
    }
   ],
   "metadata": {}
  },
  {
   "cell_type": "code",
   "execution_count": 51,
   "source": [
    "import tensorflow as tf"
   ],
   "outputs": [],
   "metadata": {}
  },
  {
   "cell_type": "code",
   "execution_count": 52,
   "source": [
    "train_predict=model.predict(x_train)\n",
    "test_predict=model.predict(x_test)"
   ],
   "outputs": [],
   "metadata": {}
  },
  {
   "cell_type": "code",
   "execution_count": 53,
   "source": [
    "train_predict=scaler.inverse_transform(train_predict)\n",
    "test_predict=scaler.inverse_transform(test_predict)"
   ],
   "outputs": [],
   "metadata": {}
  },
  {
   "cell_type": "code",
   "execution_count": 54,
   "source": [
    "import math"
   ],
   "outputs": [],
   "metadata": {}
  },
  {
   "cell_type": "code",
   "execution_count": 56,
   "source": [
    "from sklearn.metrics import mean_squared_error\n",
    "math.sqrt(mean_squared_error(y_train,train_predict))"
   ],
   "outputs": [
    {
     "output_type": "execute_result",
     "data": {
      "text/plain": [
       "172.54758372069637"
      ]
     },
     "metadata": {},
     "execution_count": 56
    }
   ],
   "metadata": {}
  },
  {
   "cell_type": "code",
   "execution_count": 57,
   "source": [
    "math.sqrt(mean_squared_error(y_test,test_predict))"
   ],
   "outputs": [
    {
     "output_type": "execute_result",
     "data": {
      "text/plain": [
       "152.03457087923638"
      ]
     },
     "metadata": {},
     "execution_count": 57
    }
   ],
   "metadata": {}
  },
  {
   "cell_type": "code",
   "execution_count": 58,
   "source": [
    "## plotting\n",
    "# shift train prediction for plotting\n",
    "look_back=100\n",
    "trainPredictPlot = numpy.empty_like(df1)\n",
    "trainPredictPlot[:,:] = np.nan\n",
    "trainPredictPlot[look_back:len(train_predict)+look_back,:] = train_predict\n",
    "# shift test prediction for plotting\n",
    "testPredictPlot = numpy.empty_like(df1)\n",
    "testPredictPlot[:,:] = numpy.nan\n",
    "testPredictPlot[len(train_predict)+(look_back*2)+1:len(df1)-1,:] = test_predict \n",
    "# plot baseline and predictions\n",
    "plt.plot(scaler.inverse_transform(df1))\n",
    "plt.plot(trainPredictPlot)\n",
    "plt.plot(testPredictPlot)\n",
    "plt.show()"
   ],
   "outputs": [
    {
     "output_type": "display_data",
     "data": {
      "image/png": "[encoded data removed]",
      "text/plain": [
       "<Figure size 432x288 with 1 Axes>"
      ]
     },
     "metadata": {
      "needs_background": "light"
     }
    }
   ],
   "metadata": {}
  },
  {
   "cell_type": "code",
   "execution_count": 59,
   "source": [
    "len(test_data)"
   ],
   "outputs": [
    {
     "output_type": "execute_result",
     "data": {
      "text/plain": [
       "371"
      ]
     },
     "metadata": {},
     "execution_count": 59
    }
   ],
   "metadata": {}
  },
  {
   "cell_type": "code",
   "execution_count": 61,
   "source": [
    "x_input=test_data[271:].reshape(1,-1)\n",
    "x_input.shape"
   ],
   "outputs": [
    {
     "output_type": "execute_result",
     "data": {
      "text/plain": [
       "(1, 100)"
      ]
     },
     "metadata": {},
     "execution_count": 61
    }
   ],
   "metadata": {}
  },
  {
   "cell_type": "code",
   "execution_count": 62,
   "source": [
    "temp_input=list(x_input)\n",
    "temp_input=temp_input[0].tolist()"
   ],
   "outputs": [],
   "metadata": {}
  },
  {
   "cell_type": "code",
   "execution_count": 64,
   "source": [
    "# demonstrate prediction for next 10 days\n",
    "from numpy import array\n",
    "n_steps=100\n",
    "lst_output=[]\n",
    "n_steps=100\n",
    "i=0\n",
    "while(i<30):\n",
    "    if(len(temp_input)>100):\n",
    "        #print(temp_input)\n",
    "        x_input=np.array(temp_input[1:])\n",
    "        print('{} day input {}'.format(i,x_input))\n",
    "        x_input=x_input.reshape(1,-1)\n",
    "        x_input=x_input.reshape(1,n_steps,1)\n",
    "        #print(x_input)\n",
    "        yhat=model.predict(x_input,verbose=0)\n",
    "        print('{} day output {}'.format(i,yhat))\n",
    "        temp_input.extend(yhat[0].tolist())\n",
    "        temp_input=temp_input[1:]\n",
    "        #print(temp_input)\n",
    "        lst_output.extend(yhat.tolist())\n",
    "        i=i+1\n",
    "    else:\n",
    "        x_input=x_input.reshape(1,n_steps,1)\n",
    "        yhat=model.predict(x_input,verbose=0)\n",
    "        print(yhat[0])\n",
    "        temp_input.extend(yhat[0].tolist())\n",
    "        print(len(temp_input))\n",
    "        lst_output.extend(yhat.tolist())\n",
    "        i=i+1\n",
    "\n",
    "print(lst_output)"
   ],
   "outputs": [
    {
     "output_type": "stream",
     "name": "stdout",
     "text": [
      "0 day input [0.16651726 0.17279247 0.17951591 0.17637831 0.17234424 0.16898252\n",
      " 0.16831017 0.16248319 0.16987898 0.17525773 0.18556701 0.18915285\n",
      " 0.18354998 0.1824294  0.17256835 0.18108472 0.18153294 0.17055132\n",
      " 0.17189601 0.16943075 0.17705065 0.16270731 0.17346481 0.18646347\n",
      " 0.20416853 0.21156432 0.20259973 0.20461676 0.19520394 0.20797848\n",
      " 0.22142537 0.22142537 0.22523532 0.23890632 0.2447333  0.24406096\n",
      " 0.24137158 0.24271627 0.24069924 0.23442403 0.25930076 0.25907665\n",
      " 0.25616316 0.24831914 0.26176602 0.2447333  0.23330345 0.22613178\n",
      " 0.20103093 0.20416853 0.18870462 0.18287763 0.19049753 0.19766921\n",
      " 0.19878978 0.20080681 0.19744509 0.19520394 0.19722098 0.19229045\n",
      " 0.19789332 0.20909906 0.20730614 0.20170327 0.19004931 0.19206634\n",
      " 0.17817122 0.17548185 0.18377409 0.19139399 0.18780816 0.20192739\n",
      " 0.18511878 0.18668758 0.23263111 0.2415957  0.25750784 0.25862842\n",
      " 0.27297176 0.29112506 0.29964142 0.29157329 0.27498879 0.27947109\n",
      " 0.26781712 0.27162707 0.27431645 0.28148812 0.25145675 0.26535186\n",
      " 0.2552667  0.27588525 0.2660242  0.24831914 0.25459435 0.25728373\n",
      " 0.25773196 0.2371134  0.23823398 0.23907876]\n",
      "0 day output [[0.23470889]]\n",
      "1 day input [0.17279247 0.17951591 0.17637831 0.17234424 0.16898252 0.16831017\n",
      " 0.16248319 0.16987898 0.17525773 0.18556701 0.18915285 0.18354998\n",
      " 0.1824294  0.17256835 0.18108472 0.18153294 0.17055132 0.17189601\n",
      " 0.16943075 0.17705065 0.16270731 0.17346481 0.18646347 0.20416853\n",
      " 0.21156432 0.20259973 0.20461676 0.19520394 0.20797848 0.22142537\n",
      " 0.22142537 0.22523532 0.23890632 0.2447333  0.24406096 0.24137158\n",
      " 0.24271627 0.24069924 0.23442403 0.25930076 0.25907665 0.25616316\n",
      " 0.24831914 0.26176602 0.2447333  0.23330345 0.22613178 0.20103093\n",
      " 0.20416853 0.18870462 0.18287763 0.19049753 0.19766921 0.19878978\n",
      " 0.20080681 0.19744509 0.19520394 0.19722098 0.19229045 0.19789332\n",
      " 0.20909906 0.20730614 0.20170327 0.19004931 0.19206634 0.17817122\n",
      " 0.17548185 0.18377409 0.19139399 0.18780816 0.20192739 0.18511878\n",
      " 0.18668758 0.23263111 0.2415957  0.25750784 0.25862842 0.27297176\n",
      " 0.29112506 0.29964142 0.29157329 0.27498879 0.27947109 0.26781712\n",
      " 0.27162707 0.27431645 0.28148812 0.25145675 0.26535186 0.2552667\n",
      " 0.27588525 0.2660242  0.24831914 0.25459435 0.25728373 0.25773196\n",
      " 0.2371134  0.23823398 0.23907876 0.23470889]\n",
      "1 day output [[0.23101158]]\n",
      "2 day input [0.17951591 0.17637831 0.17234424 0.16898252 0.16831017 0.16248319\n",
      " 0.16987898 0.17525773 0.18556701 0.18915285 0.18354998 0.1824294\n",
      " 0.17256835 0.18108472 0.18153294 0.17055132 0.17189601 0.16943075\n",
      " 0.17705065 0.16270731 0.17346481 0.18646347 0.20416853 0.21156432\n",
      " 0.20259973 0.20461676 0.19520394 0.20797848 0.22142537 0.22142537\n",
      " 0.22523532 0.23890632 0.2447333  0.24406096 0.24137158 0.24271627\n",
      " 0.24069924 0.23442403 0.25930076 0.25907665 0.25616316 0.24831914\n",
      " 0.26176602 0.2447333  0.23330345 0.22613178 0.20103093 0.20416853\n",
      " 0.18870462 0.18287763 0.19049753 0.19766921 0.19878978 0.20080681\n",
      " 0.19744509 0.19520394 0.19722098 0.19229045 0.19789332 0.20909906\n",
      " 0.20730614 0.20170327 0.19004931 0.19206634 0.17817122 0.17548185\n",
      " 0.18377409 0.19139399 0.18780816 0.20192739 0.18511878 0.18668758\n",
      " 0.23263111 0.2415957  0.25750784 0.25862842 0.27297176 0.29112506\n",
      " 0.29964142 0.29157329 0.27498879 0.27947109 0.26781712 0.27162707\n",
      " 0.27431645 0.28148812 0.25145675 0.26535186 0.2552667  0.27588525\n",
      " 0.2660242  0.24831914 0.25459435 0.25728373 0.25773196 0.2371134\n",
      " 0.23823398 0.23907876 0.23470889 0.23101158]\n",
      "2 day output [[0.2277757]]\n",
      "3 day input [0.17637831 0.17234424 0.16898252 0.16831017 0.16248319 0.16987898\n",
      " 0.17525773 0.18556701 0.18915285 0.18354998 0.1824294  0.17256835\n",
      " 0.18108472 0.18153294 0.17055132 0.17189601 0.16943075 0.17705065\n",
      " 0.16270731 0.17346481 0.18646347 0.20416853 0.21156432 0.20259973\n",
      " 0.20461676 0.19520394 0.20797848 0.22142537 0.22142537 0.22523532\n",
      " 0.23890632 0.2447333  0.24406096 0.24137158 0.24271627 0.24069924\n",
      " 0.23442403 0.25930076 0.25907665 0.25616316 0.24831914 0.26176602\n",
      " 0.2447333  0.23330345 0.22613178 0.20103093 0.20416853 0.18870462\n",
      " 0.18287763 0.19049753 0.19766921 0.19878978 0.20080681 0.19744509\n",
      " 0.19520394 0.19722098 0.19229045 0.19789332 0.20909906 0.20730614\n",
      " 0.20170327 0.19004931 0.19206634 0.17817122 0.17548185 0.18377409\n",
      " 0.19139399 0.18780816 0.20192739 0.18511878 0.18668758 0.23263111\n",
      " 0.2415957  0.25750784 0.25862842 0.27297176 0.29112506 0.29964142\n",
      " 0.29157329 0.27498879 0.27947109 0.26781712 0.27162707 0.27431645\n",
      " 0.28148812 0.25145675 0.26535186 0.2552667  0.27588525 0.2660242\n",
      " 0.24831914 0.25459435 0.25728373 0.25773196 0.2371134  0.23823398\n",
      " 0.23907876 0.23470889 0.23101158 0.22777569]\n",
      "3 day output [[0.22481295]]\n",
      "4 day input [0.17234424 0.16898252 0.16831017 0.16248319 0.16987898 0.17525773\n",
      " 0.18556701 0.18915285 0.18354998 0.1824294  0.17256835 0.18108472\n",
      " 0.18153294 0.17055132 0.17189601 0.16943075 0.17705065 0.16270731\n",
      " 0.17346481 0.18646347 0.20416853 0.21156432 0.20259973 0.20461676\n",
      " 0.19520394 0.20797848 0.22142537 0.22142537 0.22523532 0.23890632\n",
      " 0.2447333  0.24406096 0.24137158 0.24271627 0.24069924 0.23442403\n",
      " 0.25930076 0.25907665 0.25616316 0.24831914 0.26176602 0.2447333\n",
      " 0.23330345 0.22613178 0.20103093 0.20416853 0.18870462 0.18287763\n",
      " 0.19049753 0.19766921 0.19878978 0.20080681 0.19744509 0.19520394\n",
      " 0.19722098 0.19229045 0.19789332 0.20909906 0.20730614 0.20170327\n",
      " 0.19004931 0.19206634 0.17817122 0.17548185 0.18377409 0.19139399\n",
      " 0.18780816 0.20192739 0.18511878 0.18668758 0.23263111 0.2415957\n",
      " 0.25750784 0.25862842 0.27297176 0.29112506 0.29964142 0.29157329\n",
      " 0.27498879 0.27947109 0.26781712 0.27162707 0.27431645 0.28148812\n",
      " 0.25145675 0.26535186 0.2552667  0.27588525 0.2660242  0.24831914\n",
      " 0.25459435 0.25728373 0.25773196 0.2371134  0.23823398 0.23907876\n",
      " 0.23470889 0.23101158 0.22777569 0.22481295]\n",
      "4 day output [[0.22201665]]\n",
      "5 day input [0.16898252 0.16831017 0.16248319 0.16987898 0.17525773 0.18556701\n",
      " 0.18915285 0.18354998 0.1824294  0.17256835 0.18108472 0.18153294\n",
      " 0.17055132 0.17189601 0.16943075 0.17705065 0.16270731 0.17346481\n",
      " 0.18646347 0.20416853 0.21156432 0.20259973 0.20461676 0.19520394\n",
      " 0.20797848 0.22142537 0.22142537 0.22523532 0.23890632 0.2447333\n",
      " 0.24406096 0.24137158 0.24271627 0.24069924 0.23442403 0.25930076\n",
      " 0.25907665 0.25616316 0.24831914 0.26176602 0.2447333  0.23330345\n",
      " 0.22613178 0.20103093 0.20416853 0.18870462 0.18287763 0.19049753\n",
      " 0.19766921 0.19878978 0.20080681 0.19744509 0.19520394 0.19722098\n",
      " 0.19229045 0.19789332 0.20909906 0.20730614 0.20170327 0.19004931\n",
      " 0.19206634 0.17817122 0.17548185 0.18377409 0.19139399 0.18780816\n",
      " 0.20192739 0.18511878 0.18668758 0.23263111 0.2415957  0.25750784\n",
      " 0.25862842 0.27297176 0.29112506 0.29964142 0.29157329 0.27498879\n",
      " 0.27947109 0.26781712 0.27162707 0.27431645 0.28148812 0.25145675\n",
      " 0.26535186 0.2552667  0.27588525 0.2660242  0.24831914 0.25459435\n",
      " 0.25728373 0.25773196 0.2371134  0.23823398 0.23907876 0.23470889\n",
      " 0.23101158 0.22777569 0.22481295 0.22201665]\n",
      "5 day output [[0.21933597]]\n",
      "6 day input [0.16831017 0.16248319 0.16987898 0.17525773 0.18556701 0.18915285\n",
      " 0.18354998 0.1824294  0.17256835 0.18108472 0.18153294 0.17055132\n",
      " 0.17189601 0.16943075 0.17705065 0.16270731 0.17346481 0.18646347\n",
      " 0.20416853 0.21156432 0.20259973 0.20461676 0.19520394 0.20797848\n",
      " 0.22142537 0.22142537 0.22523532 0.23890632 0.2447333  0.24406096\n",
      " 0.24137158 0.24271627 0.24069924 0.23442403 0.25930076 0.25907665\n",
      " 0.25616316 0.24831914 0.26176602 0.2447333  0.23330345 0.22613178\n",
      " 0.20103093 0.20416853 0.18870462 0.18287763 0.19049753 0.19766921\n",
      " 0.19878978 0.20080681 0.19744509 0.19520394 0.19722098 0.19229045\n",
      " 0.19789332 0.20909906 0.20730614 0.20170327 0.19004931 0.19206634\n",
      " 0.17817122 0.17548185 0.18377409 0.19139399 0.18780816 0.20192739\n",
      " 0.18511878 0.18668758 0.23263111 0.2415957  0.25750784 0.25862842\n",
      " 0.27297176 0.29112506 0.29964142 0.29157329 0.27498879 0.27947109\n",
      " 0.26781712 0.27162707 0.27431645 0.28148812 0.25145675 0.26535186\n",
      " 0.2552667  0.27588525 0.2660242  0.24831914 0.25459435 0.25728373\n",
      " 0.25773196 0.2371134  0.23823398 0.23907876 0.23470889 0.23101158\n",
      " 0.22777569 0.22481295 0.22201665 0.21933597]\n",
      "6 day output [[0.21674648]]\n",
      "7 day input [0.16248319 0.16987898 0.17525773 0.18556701 0.18915285 0.18354998\n",
      " 0.1824294  0.17256835 0.18108472 0.18153294 0.17055132 0.17189601\n",
      " 0.16943075 0.17705065 0.16270731 0.17346481 0.18646347 0.20416853\n",
      " 0.21156432 0.20259973 0.20461676 0.19520394 0.20797848 0.22142537\n",
      " 0.22142537 0.22523532 0.23890632 0.2447333  0.24406096 0.24137158\n",
      " 0.24271627 0.24069924 0.23442403 0.25930076 0.25907665 0.25616316\n",
      " 0.24831914 0.26176602 0.2447333  0.23330345 0.22613178 0.20103093\n",
      " 0.20416853 0.18870462 0.18287763 0.19049753 0.19766921 0.19878978\n",
      " 0.20080681 0.19744509 0.19520394 0.19722098 0.19229045 0.19789332\n",
      " 0.20909906 0.20730614 0.20170327 0.19004931 0.19206634 0.17817122\n",
      " 0.17548185 0.18377409 0.19139399 0.18780816 0.20192739 0.18511878\n",
      " 0.18668758 0.23263111 0.2415957  0.25750784 0.25862842 0.27297176\n",
      " 0.29112506 0.29964142 0.29157329 0.27498879 0.27947109 0.26781712\n",
      " 0.27162707 0.27431645 0.28148812 0.25145675 0.26535186 0.2552667\n",
      " 0.27588525 0.2660242  0.24831914 0.25459435 0.25728373 0.25773196\n",
      " 0.2371134  0.23823398 0.23907876 0.23470889 0.23101158 0.22777569\n",
      " 0.22481295 0.22201665 0.21933597 0.21674648]\n"
     ]
    },
    {
     "output_type": "stream",
     "name": "stdout",
     "text": [
      "7 day output [[0.21423258]]\n",
      "8 day input [0.16987898 0.17525773 0.18556701 0.18915285 0.18354998 0.1824294\n",
      " 0.17256835 0.18108472 0.18153294 0.17055132 0.17189601 0.16943075\n",
      " 0.17705065 0.16270731 0.17346481 0.18646347 0.20416853 0.21156432\n",
      " 0.20259973 0.20461676 0.19520394 0.20797848 0.22142537 0.22142537\n",
      " 0.22523532 0.23890632 0.2447333  0.24406096 0.24137158 0.24271627\n",
      " 0.24069924 0.23442403 0.25930076 0.25907665 0.25616316 0.24831914\n",
      " 0.26176602 0.2447333  0.23330345 0.22613178 0.20103093 0.20416853\n",
      " 0.18870462 0.18287763 0.19049753 0.19766921 0.19878978 0.20080681\n",
      " 0.19744509 0.19520394 0.19722098 0.19229045 0.19789332 0.20909906\n",
      " 0.20730614 0.20170327 0.19004931 0.19206634 0.17817122 0.17548185\n",
      " 0.18377409 0.19139399 0.18780816 0.20192739 0.18511878 0.18668758\n",
      " 0.23263111 0.2415957  0.25750784 0.25862842 0.27297176 0.29112506\n",
      " 0.29964142 0.29157329 0.27498879 0.27947109 0.26781712 0.27162707\n",
      " 0.27431645 0.28148812 0.25145675 0.26535186 0.2552667  0.27588525\n",
      " 0.2660242  0.24831914 0.25459435 0.25728373 0.25773196 0.2371134\n",
      " 0.23823398 0.23907876 0.23470889 0.23101158 0.22777569 0.22481295\n",
      " 0.22201665 0.21933597 0.21674648 0.21423258]\n",
      "8 day output [[0.21178119]]\n",
      "9 day input [0.17525773 0.18556701 0.18915285 0.18354998 0.1824294  0.17256835\n",
      " 0.18108472 0.18153294 0.17055132 0.17189601 0.16943075 0.17705065\n",
      " 0.16270731 0.17346481 0.18646347 0.20416853 0.21156432 0.20259973\n",
      " 0.20461676 0.19520394 0.20797848 0.22142537 0.22142537 0.22523532\n",
      " 0.23890632 0.2447333  0.24406096 0.24137158 0.24271627 0.24069924\n",
      " 0.23442403 0.25930076 0.25907665 0.25616316 0.24831914 0.26176602\n",
      " 0.2447333  0.23330345 0.22613178 0.20103093 0.20416853 0.18870462\n",
      " 0.18287763 0.19049753 0.19766921 0.19878978 0.20080681 0.19744509\n",
      " 0.19520394 0.19722098 0.19229045 0.19789332 0.20909906 0.20730614\n",
      " 0.20170327 0.19004931 0.19206634 0.17817122 0.17548185 0.18377409\n",
      " 0.19139399 0.18780816 0.20192739 0.18511878 0.18668758 0.23263111\n",
      " 0.2415957  0.25750784 0.25862842 0.27297176 0.29112506 0.29964142\n",
      " 0.29157329 0.27498879 0.27947109 0.26781712 0.27162707 0.27431645\n",
      " 0.28148812 0.25145675 0.26535186 0.2552667  0.27588525 0.2660242\n",
      " 0.24831914 0.25459435 0.25728373 0.25773196 0.2371134  0.23823398\n",
      " 0.23907876 0.23470889 0.23101158 0.22777569 0.22481295 0.22201665\n",
      " 0.21933597 0.21674648 0.21423258 0.21178119]\n",
      "9 day output [[0.20938031]]\n",
      "10 day input [0.18556701 0.18915285 0.18354998 0.1824294  0.17256835 0.18108472\n",
      " 0.18153294 0.17055132 0.17189601 0.16943075 0.17705065 0.16270731\n",
      " 0.17346481 0.18646347 0.20416853 0.21156432 0.20259973 0.20461676\n",
      " 0.19520394 0.20797848 0.22142537 0.22142537 0.22523532 0.23890632\n",
      " 0.2447333  0.24406096 0.24137158 0.24271627 0.24069924 0.23442403\n",
      " 0.25930076 0.25907665 0.25616316 0.24831914 0.26176602 0.2447333\n",
      " 0.23330345 0.22613178 0.20103093 0.20416853 0.18870462 0.18287763\n",
      " 0.19049753 0.19766921 0.19878978 0.20080681 0.19744509 0.19520394\n",
      " 0.19722098 0.19229045 0.19789332 0.20909906 0.20730614 0.20170327\n",
      " 0.19004931 0.19206634 0.17817122 0.17548185 0.18377409 0.19139399\n",
      " 0.18780816 0.20192739 0.18511878 0.18668758 0.23263111 0.2415957\n",
      " 0.25750784 0.25862842 0.27297176 0.29112506 0.29964142 0.29157329\n",
      " 0.27498879 0.27947109 0.26781712 0.27162707 0.27431645 0.28148812\n",
      " 0.25145675 0.26535186 0.2552667  0.27588525 0.2660242  0.24831914\n",
      " 0.25459435 0.25728373 0.25773196 0.2371134  0.23823398 0.23907876\n",
      " 0.23470889 0.23101158 0.22777569 0.22481295 0.22201665 0.21933597\n",
      " 0.21674648 0.21423258 0.21178119 0.20938031]\n",
      "10 day output [[0.20701951]]\n",
      "11 day input [0.18915285 0.18354998 0.1824294  0.17256835 0.18108472 0.18153294\n",
      " 0.17055132 0.17189601 0.16943075 0.17705065 0.16270731 0.17346481\n",
      " 0.18646347 0.20416853 0.21156432 0.20259973 0.20461676 0.19520394\n",
      " 0.20797848 0.22142537 0.22142537 0.22523532 0.23890632 0.2447333\n",
      " 0.24406096 0.24137158 0.24271627 0.24069924 0.23442403 0.25930076\n",
      " 0.25907665 0.25616316 0.24831914 0.26176602 0.2447333  0.23330345\n",
      " 0.22613178 0.20103093 0.20416853 0.18870462 0.18287763 0.19049753\n",
      " 0.19766921 0.19878978 0.20080681 0.19744509 0.19520394 0.19722098\n",
      " 0.19229045 0.19789332 0.20909906 0.20730614 0.20170327 0.19004931\n",
      " 0.19206634 0.17817122 0.17548185 0.18377409 0.19139399 0.18780816\n",
      " 0.20192739 0.18511878 0.18668758 0.23263111 0.2415957  0.25750784\n",
      " 0.25862842 0.27297176 0.29112506 0.29964142 0.29157329 0.27498879\n",
      " 0.27947109 0.26781712 0.27162707 0.27431645 0.28148812 0.25145675\n",
      " 0.26535186 0.2552667  0.27588525 0.2660242  0.24831914 0.25459435\n",
      " 0.25728373 0.25773196 0.2371134  0.23823398 0.23907876 0.23470889\n",
      " 0.23101158 0.22777569 0.22481295 0.22201665 0.21933597 0.21674648\n",
      " 0.21423258 0.21178119 0.20938031 0.20701951]\n",
      "11 day output [[0.20469025]]\n",
      "12 day input [0.18354998 0.1824294  0.17256835 0.18108472 0.18153294 0.17055132\n",
      " 0.17189601 0.16943075 0.17705065 0.16270731 0.17346481 0.18646347\n",
      " 0.20416853 0.21156432 0.20259973 0.20461676 0.19520394 0.20797848\n",
      " 0.22142537 0.22142537 0.22523532 0.23890632 0.2447333  0.24406096\n",
      " 0.24137158 0.24271627 0.24069924 0.23442403 0.25930076 0.25907665\n",
      " 0.25616316 0.24831914 0.26176602 0.2447333  0.23330345 0.22613178\n",
      " 0.20103093 0.20416853 0.18870462 0.18287763 0.19049753 0.19766921\n",
      " 0.19878978 0.20080681 0.19744509 0.19520394 0.19722098 0.19229045\n",
      " 0.19789332 0.20909906 0.20730614 0.20170327 0.19004931 0.19206634\n",
      " 0.17817122 0.17548185 0.18377409 0.19139399 0.18780816 0.20192739\n",
      " 0.18511878 0.18668758 0.23263111 0.2415957  0.25750784 0.25862842\n",
      " 0.27297176 0.29112506 0.29964142 0.29157329 0.27498879 0.27947109\n",
      " 0.26781712 0.27162707 0.27431645 0.28148812 0.25145675 0.26535186\n",
      " 0.2552667  0.27588525 0.2660242  0.24831914 0.25459435 0.25728373\n",
      " 0.25773196 0.2371134  0.23823398 0.23907876 0.23470889 0.23101158\n",
      " 0.22777569 0.22481295 0.22201665 0.21933597 0.21674648 0.21423258\n",
      " 0.21178119 0.20938031 0.20701951 0.20469025]\n",
      "12 day output [[0.20238623]]\n",
      "13 day input [0.1824294  0.17256835 0.18108472 0.18153294 0.17055132 0.17189601\n",
      " 0.16943075 0.17705065 0.16270731 0.17346481 0.18646347 0.20416853\n",
      " 0.21156432 0.20259973 0.20461676 0.19520394 0.20797848 0.22142537\n",
      " 0.22142537 0.22523532 0.23890632 0.2447333  0.24406096 0.24137158\n",
      " 0.24271627 0.24069924 0.23442403 0.25930076 0.25907665 0.25616316\n",
      " 0.24831914 0.26176602 0.2447333  0.23330345 0.22613178 0.20103093\n",
      " 0.20416853 0.18870462 0.18287763 0.19049753 0.19766921 0.19878978\n",
      " 0.20080681 0.19744509 0.19520394 0.19722098 0.19229045 0.19789332\n",
      " 0.20909906 0.20730614 0.20170327 0.19004931 0.19206634 0.17817122\n",
      " 0.17548185 0.18377409 0.19139399 0.18780816 0.20192739 0.18511878\n",
      " 0.18668758 0.23263111 0.2415957  0.25750784 0.25862842 0.27297176\n",
      " 0.29112506 0.29964142 0.29157329 0.27498879 0.27947109 0.26781712\n",
      " 0.27162707 0.27431645 0.28148812 0.25145675 0.26535186 0.2552667\n",
      " 0.27588525 0.2660242  0.24831914 0.25459435 0.25728373 0.25773196\n",
      " 0.2371134  0.23823398 0.23907876 0.23470889 0.23101158 0.22777569\n",
      " 0.22481295 0.22201665 0.21933597 0.21674648 0.21423258 0.21178119\n",
      " 0.20938031 0.20701951 0.20469025 0.20238623]\n",
      "13 day output [[0.20010337]]\n",
      "14 day input [0.17256835 0.18108472 0.18153294 0.17055132 0.17189601 0.16943075\n",
      " 0.17705065 0.16270731 0.17346481 0.18646347 0.20416853 0.21156432\n",
      " 0.20259973 0.20461676 0.19520394 0.20797848 0.22142537 0.22142537\n",
      " 0.22523532 0.23890632 0.2447333  0.24406096 0.24137158 0.24271627\n",
      " 0.24069924 0.23442403 0.25930076 0.25907665 0.25616316 0.24831914\n",
      " 0.26176602 0.2447333  0.23330345 0.22613178 0.20103093 0.20416853\n",
      " 0.18870462 0.18287763 0.19049753 0.19766921 0.19878978 0.20080681\n",
      " 0.19744509 0.19520394 0.19722098 0.19229045 0.19789332 0.20909906\n",
      " 0.20730614 0.20170327 0.19004931 0.19206634 0.17817122 0.17548185\n",
      " 0.18377409 0.19139399 0.18780816 0.20192739 0.18511878 0.18668758\n",
      " 0.23263111 0.2415957  0.25750784 0.25862842 0.27297176 0.29112506\n",
      " 0.29964142 0.29157329 0.27498879 0.27947109 0.26781712 0.27162707\n",
      " 0.27431645 0.28148812 0.25145675 0.26535186 0.2552667  0.27588525\n",
      " 0.2660242  0.24831914 0.25459435 0.25728373 0.25773196 0.2371134\n",
      " 0.23823398 0.23907876 0.23470889 0.23101158 0.22777569 0.22481295\n",
      " 0.22201665 0.21933597 0.21674648 0.21423258 0.21178119 0.20938031\n",
      " 0.20701951 0.20469025 0.20238623 0.20010337]\n",
      "14 day output [[0.19783947]]\n",
      "15 day input [0.18108472 0.18153294 0.17055132 0.17189601 0.16943075 0.17705065\n",
      " 0.16270731 0.17346481 0.18646347 0.20416853 0.21156432 0.20259973\n",
      " 0.20461676 0.19520394 0.20797848 0.22142537 0.22142537 0.22523532\n",
      " 0.23890632 0.2447333  0.24406096 0.24137158 0.24271627 0.24069924\n",
      " 0.23442403 0.25930076 0.25907665 0.25616316 0.24831914 0.26176602\n",
      " 0.2447333  0.23330345 0.22613178 0.20103093 0.20416853 0.18870462\n",
      " 0.18287763 0.19049753 0.19766921 0.19878978 0.20080681 0.19744509\n",
      " 0.19520394 0.19722098 0.19229045 0.19789332 0.20909906 0.20730614\n",
      " 0.20170327 0.19004931 0.19206634 0.17817122 0.17548185 0.18377409\n",
      " 0.19139399 0.18780816 0.20192739 0.18511878 0.18668758 0.23263111\n",
      " 0.2415957  0.25750784 0.25862842 0.27297176 0.29112506 0.29964142\n",
      " 0.29157329 0.27498879 0.27947109 0.26781712 0.27162707 0.27431645\n",
      " 0.28148812 0.25145675 0.26535186 0.2552667  0.27588525 0.2660242\n",
      " 0.24831914 0.25459435 0.25728373 0.25773196 0.2371134  0.23823398\n",
      " 0.23907876 0.23470889 0.23101158 0.22777569 0.22481295 0.22201665\n",
      " 0.21933597 0.21674648 0.21423258 0.21178119 0.20938031 0.20701951\n",
      " 0.20469025 0.20238623 0.20010337 0.19783947]\n"
     ]
    },
    {
     "output_type": "stream",
     "name": "stdout",
     "text": [
      "15 day output [[0.19559388]]\n",
      "16 day input [0.18153294 0.17055132 0.17189601 0.16943075 0.17705065 0.16270731\n",
      " 0.17346481 0.18646347 0.20416853 0.21156432 0.20259973 0.20461676\n",
      " 0.19520394 0.20797848 0.22142537 0.22142537 0.22523532 0.23890632\n",
      " 0.2447333  0.24406096 0.24137158 0.24271627 0.24069924 0.23442403\n",
      " 0.25930076 0.25907665 0.25616316 0.24831914 0.26176602 0.2447333\n",
      " 0.23330345 0.22613178 0.20103093 0.20416853 0.18870462 0.18287763\n",
      " 0.19049753 0.19766921 0.19878978 0.20080681 0.19744509 0.19520394\n",
      " 0.19722098 0.19229045 0.19789332 0.20909906 0.20730614 0.20170327\n",
      " 0.19004931 0.19206634 0.17817122 0.17548185 0.18377409 0.19139399\n",
      " 0.18780816 0.20192739 0.18511878 0.18668758 0.23263111 0.2415957\n",
      " 0.25750784 0.25862842 0.27297176 0.29112506 0.29964142 0.29157329\n",
      " 0.27498879 0.27947109 0.26781712 0.27162707 0.27431645 0.28148812\n",
      " 0.25145675 0.26535186 0.2552667  0.27588525 0.2660242  0.24831914\n",
      " 0.25459435 0.25728373 0.25773196 0.2371134  0.23823398 0.23907876\n",
      " 0.23470889 0.23101158 0.22777569 0.22481295 0.22201665 0.21933597\n",
      " 0.21674648 0.21423258 0.21178119 0.20938031 0.20701951 0.20469025\n",
      " 0.20238623 0.20010337 0.19783947 0.19559388]\n",
      "16 day output [[0.19336723]]\n",
      "17 day input [0.17055132 0.17189601 0.16943075 0.17705065 0.16270731 0.17346481\n",
      " 0.18646347 0.20416853 0.21156432 0.20259973 0.20461676 0.19520394\n",
      " 0.20797848 0.22142537 0.22142537 0.22523532 0.23890632 0.2447333\n",
      " 0.24406096 0.24137158 0.24271627 0.24069924 0.23442403 0.25930076\n",
      " 0.25907665 0.25616316 0.24831914 0.26176602 0.2447333  0.23330345\n",
      " 0.22613178 0.20103093 0.20416853 0.18870462 0.18287763 0.19049753\n",
      " 0.19766921 0.19878978 0.20080681 0.19744509 0.19520394 0.19722098\n",
      " 0.19229045 0.19789332 0.20909906 0.20730614 0.20170327 0.19004931\n",
      " 0.19206634 0.17817122 0.17548185 0.18377409 0.19139399 0.18780816\n",
      " 0.20192739 0.18511878 0.18668758 0.23263111 0.2415957  0.25750784\n",
      " 0.25862842 0.27297176 0.29112506 0.29964142 0.29157329 0.27498879\n",
      " 0.27947109 0.26781712 0.27162707 0.27431645 0.28148812 0.25145675\n",
      " 0.26535186 0.2552667  0.27588525 0.2660242  0.24831914 0.25459435\n",
      " 0.25728373 0.25773196 0.2371134  0.23823398 0.23907876 0.23470889\n",
      " 0.23101158 0.22777569 0.22481295 0.22201665 0.21933597 0.21674648\n",
      " 0.21423258 0.21178119 0.20938031 0.20701951 0.20469025 0.20238623\n",
      " 0.20010337 0.19783947 0.19559388 0.19336723]\n",
      "17 day output [[0.19116102]]\n",
      "18 day input [0.17189601 0.16943075 0.17705065 0.16270731 0.17346481 0.18646347\n",
      " 0.20416853 0.21156432 0.20259973 0.20461676 0.19520394 0.20797848\n",
      " 0.22142537 0.22142537 0.22523532 0.23890632 0.2447333  0.24406096\n",
      " 0.24137158 0.24271627 0.24069924 0.23442403 0.25930076 0.25907665\n",
      " 0.25616316 0.24831914 0.26176602 0.2447333  0.23330345 0.22613178\n",
      " 0.20103093 0.20416853 0.18870462 0.18287763 0.19049753 0.19766921\n",
      " 0.19878978 0.20080681 0.19744509 0.19520394 0.19722098 0.19229045\n",
      " 0.19789332 0.20909906 0.20730614 0.20170327 0.19004931 0.19206634\n",
      " 0.17817122 0.17548185 0.18377409 0.19139399 0.18780816 0.20192739\n",
      " 0.18511878 0.18668758 0.23263111 0.2415957  0.25750784 0.25862842\n",
      " 0.27297176 0.29112506 0.29964142 0.29157329 0.27498879 0.27947109\n",
      " 0.26781712 0.27162707 0.27431645 0.28148812 0.25145675 0.26535186\n",
      " 0.2552667  0.27588525 0.2660242  0.24831914 0.25459435 0.25728373\n",
      " 0.25773196 0.2371134  0.23823398 0.23907876 0.23470889 0.23101158\n",
      " 0.22777569 0.22481295 0.22201665 0.21933597 0.21674648 0.21423258\n",
      " 0.21178119 0.20938031 0.20701951 0.20469025 0.20238623 0.20010337\n",
      " 0.19783947 0.19559388 0.19336723 0.19116102]\n",
      "18 day output [[0.18897755]]\n",
      "19 day input [0.16943075 0.17705065 0.16270731 0.17346481 0.18646347 0.20416853\n",
      " 0.21156432 0.20259973 0.20461676 0.19520394 0.20797848 0.22142537\n",
      " 0.22142537 0.22523532 0.23890632 0.2447333  0.24406096 0.24137158\n",
      " 0.24271627 0.24069924 0.23442403 0.25930076 0.25907665 0.25616316\n",
      " 0.24831914 0.26176602 0.2447333  0.23330345 0.22613178 0.20103093\n",
      " 0.20416853 0.18870462 0.18287763 0.19049753 0.19766921 0.19878978\n",
      " 0.20080681 0.19744509 0.19520394 0.19722098 0.19229045 0.19789332\n",
      " 0.20909906 0.20730614 0.20170327 0.19004931 0.19206634 0.17817122\n",
      " 0.17548185 0.18377409 0.19139399 0.18780816 0.20192739 0.18511878\n",
      " 0.18668758 0.23263111 0.2415957  0.25750784 0.25862842 0.27297176\n",
      " 0.29112506 0.29964142 0.29157329 0.27498879 0.27947109 0.26781712\n",
      " 0.27162707 0.27431645 0.28148812 0.25145675 0.26535186 0.2552667\n",
      " 0.27588525 0.2660242  0.24831914 0.25459435 0.25728373 0.25773196\n",
      " 0.2371134  0.23823398 0.23907876 0.23470889 0.23101158 0.22777569\n",
      " 0.22481295 0.22201665 0.21933597 0.21674648 0.21423258 0.21178119\n",
      " 0.20938031 0.20701951 0.20469025 0.20238623 0.20010337 0.19783947\n",
      " 0.19559388 0.19336723 0.19116102 0.18897755]\n",
      "19 day output [[0.18681931]]\n",
      "20 day input [0.17705065 0.16270731 0.17346481 0.18646347 0.20416853 0.21156432\n",
      " 0.20259973 0.20461676 0.19520394 0.20797848 0.22142537 0.22142537\n",
      " 0.22523532 0.23890632 0.2447333  0.24406096 0.24137158 0.24271627\n",
      " 0.24069924 0.23442403 0.25930076 0.25907665 0.25616316 0.24831914\n",
      " 0.26176602 0.2447333  0.23330345 0.22613178 0.20103093 0.20416853\n",
      " 0.18870462 0.18287763 0.19049753 0.19766921 0.19878978 0.20080681\n",
      " 0.19744509 0.19520394 0.19722098 0.19229045 0.19789332 0.20909906\n",
      " 0.20730614 0.20170327 0.19004931 0.19206634 0.17817122 0.17548185\n",
      " 0.18377409 0.19139399 0.18780816 0.20192739 0.18511878 0.18668758\n",
      " 0.23263111 0.2415957  0.25750784 0.25862842 0.27297176 0.29112506\n",
      " 0.29964142 0.29157329 0.27498879 0.27947109 0.26781712 0.27162707\n",
      " 0.27431645 0.28148812 0.25145675 0.26535186 0.2552667  0.27588525\n",
      " 0.2660242  0.24831914 0.25459435 0.25728373 0.25773196 0.2371134\n",
      " 0.23823398 0.23907876 0.23470889 0.23101158 0.22777569 0.22481295\n",
      " 0.22201665 0.21933597 0.21674648 0.21423258 0.21178119 0.20938031\n",
      " 0.20701951 0.20469025 0.20238623 0.20010337 0.19783947 0.19559388\n",
      " 0.19336723 0.19116102 0.18897755 0.18681931]\n",
      "20 day output [[0.18468885]]\n",
      "21 day input [0.16270731 0.17346481 0.18646347 0.20416853 0.21156432 0.20259973\n",
      " 0.20461676 0.19520394 0.20797848 0.22142537 0.22142537 0.22523532\n",
      " 0.23890632 0.2447333  0.24406096 0.24137158 0.24271627 0.24069924\n",
      " 0.23442403 0.25930076 0.25907665 0.25616316 0.24831914 0.26176602\n",
      " 0.2447333  0.23330345 0.22613178 0.20103093 0.20416853 0.18870462\n",
      " 0.18287763 0.19049753 0.19766921 0.19878978 0.20080681 0.19744509\n",
      " 0.19520394 0.19722098 0.19229045 0.19789332 0.20909906 0.20730614\n",
      " 0.20170327 0.19004931 0.19206634 0.17817122 0.17548185 0.18377409\n",
      " 0.19139399 0.18780816 0.20192739 0.18511878 0.18668758 0.23263111\n",
      " 0.2415957  0.25750784 0.25862842 0.27297176 0.29112506 0.29964142\n",
      " 0.29157329 0.27498879 0.27947109 0.26781712 0.27162707 0.27431645\n",
      " 0.28148812 0.25145675 0.26535186 0.2552667  0.27588525 0.2660242\n",
      " 0.24831914 0.25459435 0.25728373 0.25773196 0.2371134  0.23823398\n",
      " 0.23907876 0.23470889 0.23101158 0.22777569 0.22481295 0.22201665\n",
      " 0.21933597 0.21674648 0.21423258 0.21178119 0.20938031 0.20701951\n",
      " 0.20469025 0.20238623 0.20010337 0.19783947 0.19559388 0.19336723\n",
      " 0.19116102 0.18897755 0.18681931 0.18468885]\n",
      "21 day output [[0.18258879]]\n",
      "22 day input [0.17346481 0.18646347 0.20416853 0.21156432 0.20259973 0.20461676\n",
      " 0.19520394 0.20797848 0.22142537 0.22142537 0.22523532 0.23890632\n",
      " 0.2447333  0.24406096 0.24137158 0.24271627 0.24069924 0.23442403\n",
      " 0.25930076 0.25907665 0.25616316 0.24831914 0.26176602 0.2447333\n",
      " 0.23330345 0.22613178 0.20103093 0.20416853 0.18870462 0.18287763\n",
      " 0.19049753 0.19766921 0.19878978 0.20080681 0.19744509 0.19520394\n",
      " 0.19722098 0.19229045 0.19789332 0.20909906 0.20730614 0.20170327\n",
      " 0.19004931 0.19206634 0.17817122 0.17548185 0.18377409 0.19139399\n",
      " 0.18780816 0.20192739 0.18511878 0.18668758 0.23263111 0.2415957\n",
      " 0.25750784 0.25862842 0.27297176 0.29112506 0.29964142 0.29157329\n",
      " 0.27498879 0.27947109 0.26781712 0.27162707 0.27431645 0.28148812\n",
      " 0.25145675 0.26535186 0.2552667  0.27588525 0.2660242  0.24831914\n",
      " 0.25459435 0.25728373 0.25773196 0.2371134  0.23823398 0.23907876\n",
      " 0.23470889 0.23101158 0.22777569 0.22481295 0.22201665 0.21933597\n",
      " 0.21674648 0.21423258 0.21178119 0.20938031 0.20701951 0.20469025\n",
      " 0.20238623 0.20010337 0.19783947 0.19559388 0.19336723 0.19116102\n",
      " 0.18897755 0.18681931 0.18468885 0.18258879]\n",
      "22 day output [[0.18052155]]\n",
      "23 day input [0.18646347 0.20416853 0.21156432 0.20259973 0.20461676 0.19520394\n",
      " 0.20797848 0.22142537 0.22142537 0.22523532 0.23890632 0.2447333\n",
      " 0.24406096 0.24137158 0.24271627 0.24069924 0.23442403 0.25930076\n",
      " 0.25907665 0.25616316 0.24831914 0.26176602 0.2447333  0.23330345\n",
      " 0.22613178 0.20103093 0.20416853 0.18870462 0.18287763 0.19049753\n",
      " 0.19766921 0.19878978 0.20080681 0.19744509 0.19520394 0.19722098\n",
      " 0.19229045 0.19789332 0.20909906 0.20730614 0.20170327 0.19004931\n",
      " 0.19206634 0.17817122 0.17548185 0.18377409 0.19139399 0.18780816\n",
      " 0.20192739 0.18511878 0.18668758 0.23263111 0.2415957  0.25750784\n",
      " 0.25862842 0.27297176 0.29112506 0.29964142 0.29157329 0.27498879\n",
      " 0.27947109 0.26781712 0.27162707 0.27431645 0.28148812 0.25145675\n",
      " 0.26535186 0.2552667  0.27588525 0.2660242  0.24831914 0.25459435\n",
      " 0.25728373 0.25773196 0.2371134  0.23823398 0.23907876 0.23470889\n",
      " 0.23101158 0.22777569 0.22481295 0.22201665 0.21933597 0.21674648\n",
      " 0.21423258 0.21178119 0.20938031 0.20701951 0.20469025 0.20238623\n",
      " 0.20010337 0.19783947 0.19559388 0.19336723 0.19116102 0.18897755\n",
      " 0.18681931 0.18468885 0.18258879 0.18052155]\n",
      "23 day output [[0.17848936]]\n",
      "24 day input [0.20416853 0.21156432 0.20259973 0.20461676 0.19520394 0.20797848\n",
      " 0.22142537 0.22142537 0.22523532 0.23890632 0.2447333  0.24406096\n",
      " 0.24137158 0.24271627 0.24069924 0.23442403 0.25930076 0.25907665\n",
      " 0.25616316 0.24831914 0.26176602 0.2447333  0.23330345 0.22613178\n",
      " 0.20103093 0.20416853 0.18870462 0.18287763 0.19049753 0.19766921\n",
      " 0.19878978 0.20080681 0.19744509 0.19520394 0.19722098 0.19229045\n",
      " 0.19789332 0.20909906 0.20730614 0.20170327 0.19004931 0.19206634\n",
      " 0.17817122 0.17548185 0.18377409 0.19139399 0.18780816 0.20192739\n",
      " 0.18511878 0.18668758 0.23263111 0.2415957  0.25750784 0.25862842\n",
      " 0.27297176 0.29112506 0.29964142 0.29157329 0.27498879 0.27947109\n",
      " 0.26781712 0.27162707 0.27431645 0.28148812 0.25145675 0.26535186\n",
      " 0.2552667  0.27588525 0.2660242  0.24831914 0.25459435 0.25728373\n",
      " 0.25773196 0.2371134  0.23823398 0.23907876 0.23470889 0.23101158\n",
      " 0.22777569 0.22481295 0.22201665 0.21933597 0.21674648 0.21423258\n",
      " 0.21178119 0.20938031 0.20701951 0.20469025 0.20238623 0.20010337\n",
      " 0.19783947 0.19559388 0.19336723 0.19116102 0.18897755 0.18681931\n",
      " 0.18468885 0.18258879 0.18052155 0.17848936]\n"
     ]
    },
    {
     "output_type": "stream",
     "name": "stdout",
     "text": [
      "24 day output [[0.17649403]]\n",
      "25 day input [0.21156432 0.20259973 0.20461676 0.19520394 0.20797848 0.22142537\n",
      " 0.22142537 0.22523532 0.23890632 0.2447333  0.24406096 0.24137158\n",
      " 0.24271627 0.24069924 0.23442403 0.25930076 0.25907665 0.25616316\n",
      " 0.24831914 0.26176602 0.2447333  0.23330345 0.22613178 0.20103093\n",
      " 0.20416853 0.18870462 0.18287763 0.19049753 0.19766921 0.19878978\n",
      " 0.20080681 0.19744509 0.19520394 0.19722098 0.19229045 0.19789332\n",
      " 0.20909906 0.20730614 0.20170327 0.19004931 0.19206634 0.17817122\n",
      " 0.17548185 0.18377409 0.19139399 0.18780816 0.20192739 0.18511878\n",
      " 0.18668758 0.23263111 0.2415957  0.25750784 0.25862842 0.27297176\n",
      " 0.29112506 0.29964142 0.29157329 0.27498879 0.27947109 0.26781712\n",
      " 0.27162707 0.27431645 0.28148812 0.25145675 0.26535186 0.2552667\n",
      " 0.27588525 0.2660242  0.24831914 0.25459435 0.25728373 0.25773196\n",
      " 0.2371134  0.23823398 0.23907876 0.23470889 0.23101158 0.22777569\n",
      " 0.22481295 0.22201665 0.21933597 0.21674648 0.21423258 0.21178119\n",
      " 0.20938031 0.20701951 0.20469025 0.20238623 0.20010337 0.19783947\n",
      " 0.19559388 0.19336723 0.19116102 0.18897755 0.18681931 0.18468885\n",
      " 0.18258879 0.18052155 0.17848936 0.17649403]\n",
      "25 day output [[0.17453703]]\n",
      "26 day input [0.20259973 0.20461676 0.19520394 0.20797848 0.22142537 0.22142537\n",
      " 0.22523532 0.23890632 0.2447333  0.24406096 0.24137158 0.24271627\n",
      " 0.24069924 0.23442403 0.25930076 0.25907665 0.25616316 0.24831914\n",
      " 0.26176602 0.2447333  0.23330345 0.22613178 0.20103093 0.20416853\n",
      " 0.18870462 0.18287763 0.19049753 0.19766921 0.19878978 0.20080681\n",
      " 0.19744509 0.19520394 0.19722098 0.19229045 0.19789332 0.20909906\n",
      " 0.20730614 0.20170327 0.19004931 0.19206634 0.17817122 0.17548185\n",
      " 0.18377409 0.19139399 0.18780816 0.20192739 0.18511878 0.18668758\n",
      " 0.23263111 0.2415957  0.25750784 0.25862842 0.27297176 0.29112506\n",
      " 0.29964142 0.29157329 0.27498879 0.27947109 0.26781712 0.27162707\n",
      " 0.27431645 0.28148812 0.25145675 0.26535186 0.2552667  0.27588525\n",
      " 0.2660242  0.24831914 0.25459435 0.25728373 0.25773196 0.2371134\n",
      " 0.23823398 0.23907876 0.23470889 0.23101158 0.22777569 0.22481295\n",
      " 0.22201665 0.21933597 0.21674648 0.21423258 0.21178119 0.20938031\n",
      " 0.20701951 0.20469025 0.20238623 0.20010337 0.19783947 0.19559388\n",
      " 0.19336723 0.19116102 0.18897755 0.18681931 0.18468885 0.18258879\n",
      " 0.18052155 0.17848936 0.17649403 0.17453703]\n",
      "26 day output [[0.17261963]]\n",
      "27 day input [0.20461676 0.19520394 0.20797848 0.22142537 0.22142537 0.22523532\n",
      " 0.23890632 0.2447333  0.24406096 0.24137158 0.24271627 0.24069924\n",
      " 0.23442403 0.25930076 0.25907665 0.25616316 0.24831914 0.26176602\n",
      " 0.2447333  0.23330345 0.22613178 0.20103093 0.20416853 0.18870462\n",
      " 0.18287763 0.19049753 0.19766921 0.19878978 0.20080681 0.19744509\n",
      " 0.19520394 0.19722098 0.19229045 0.19789332 0.20909906 0.20730614\n",
      " 0.20170327 0.19004931 0.19206634 0.17817122 0.17548185 0.18377409\n",
      " 0.19139399 0.18780816 0.20192739 0.18511878 0.18668758 0.23263111\n",
      " 0.2415957  0.25750784 0.25862842 0.27297176 0.29112506 0.29964142\n",
      " 0.29157329 0.27498879 0.27947109 0.26781712 0.27162707 0.27431645\n",
      " 0.28148812 0.25145675 0.26535186 0.2552667  0.27588525 0.2660242\n",
      " 0.24831914 0.25459435 0.25728373 0.25773196 0.2371134  0.23823398\n",
      " 0.23907876 0.23470889 0.23101158 0.22777569 0.22481295 0.22201665\n",
      " 0.21933597 0.21674648 0.21423258 0.21178119 0.20938031 0.20701951\n",
      " 0.20469025 0.20238623 0.20010337 0.19783947 0.19559388 0.19336723\n",
      " 0.19116102 0.18897755 0.18681931 0.18468885 0.18258879 0.18052155\n",
      " 0.17848936 0.17649403 0.17453703 0.17261963]\n",
      "27 day output [[0.1707426]]\n",
      "28 day input [0.19520394 0.20797848 0.22142537 0.22142537 0.22523532 0.23890632\n",
      " 0.2447333  0.24406096 0.24137158 0.24271627 0.24069924 0.23442403\n",
      " 0.25930076 0.25907665 0.25616316 0.24831914 0.26176602 0.2447333\n",
      " 0.23330345 0.22613178 0.20103093 0.20416853 0.18870462 0.18287763\n",
      " 0.19049753 0.19766921 0.19878978 0.20080681 0.19744509 0.19520394\n",
      " 0.19722098 0.19229045 0.19789332 0.20909906 0.20730614 0.20170327\n",
      " 0.19004931 0.19206634 0.17817122 0.17548185 0.18377409 0.19139399\n",
      " 0.18780816 0.20192739 0.18511878 0.18668758 0.23263111 0.2415957\n",
      " 0.25750784 0.25862842 0.27297176 0.29112506 0.29964142 0.29157329\n",
      " 0.27498879 0.27947109 0.26781712 0.27162707 0.27431645 0.28148812\n",
      " 0.25145675 0.26535186 0.2552667  0.27588525 0.2660242  0.24831914\n",
      " 0.25459435 0.25728373 0.25773196 0.2371134  0.23823398 0.23907876\n",
      " 0.23470889 0.23101158 0.22777569 0.22481295 0.22201665 0.21933597\n",
      " 0.21674648 0.21423258 0.21178119 0.20938031 0.20701951 0.20469025\n",
      " 0.20238623 0.20010337 0.19783947 0.19559388 0.19336723 0.19116102\n",
      " 0.18897755 0.18681931 0.18468885 0.18258879 0.18052155 0.17848936\n",
      " 0.17649403 0.17453703 0.17261963 0.1707426 ]\n",
      "28 day output [[0.16890654]]\n",
      "29 day input [0.20797848 0.22142537 0.22142537 0.22523532 0.23890632 0.2447333\n",
      " 0.24406096 0.24137158 0.24271627 0.24069924 0.23442403 0.25930076\n",
      " 0.25907665 0.25616316 0.24831914 0.26176602 0.2447333  0.23330345\n",
      " 0.22613178 0.20103093 0.20416853 0.18870462 0.18287763 0.19049753\n",
      " 0.19766921 0.19878978 0.20080681 0.19744509 0.19520394 0.19722098\n",
      " 0.19229045 0.19789332 0.20909906 0.20730614 0.20170327 0.19004931\n",
      " 0.19206634 0.17817122 0.17548185 0.18377409 0.19139399 0.18780816\n",
      " 0.20192739 0.18511878 0.18668758 0.23263111 0.2415957  0.25750784\n",
      " 0.25862842 0.27297176 0.29112506 0.29964142 0.29157329 0.27498879\n",
      " 0.27947109 0.26781712 0.27162707 0.27431645 0.28148812 0.25145675\n",
      " 0.26535186 0.2552667  0.27588525 0.2660242  0.24831914 0.25459435\n",
      " 0.25728373 0.25773196 0.2371134  0.23823398 0.23907876 0.23470889\n",
      " 0.23101158 0.22777569 0.22481295 0.22201665 0.21933597 0.21674648\n",
      " 0.21423258 0.21178119 0.20938031 0.20701951 0.20469025 0.20238623\n",
      " 0.20010337 0.19783947 0.19559388 0.19336723 0.19116102 0.18897755\n",
      " 0.18681931 0.18468885 0.18258879 0.18052155 0.17848936 0.17649403\n",
      " 0.17453703 0.17261963 0.1707426  0.16890654]\n",
      "29 day output [[0.16711159]]\n",
      "[[0.23470889031887054], [0.23101158440113068], [0.2277756929397583], [0.22481295466423035], [0.22201664745807648], [0.21933597326278687], [0.2167464792728424], [0.21423257887363434], [0.21178118884563446], [0.20938031375408173], [0.20701950788497925], [0.20469024777412415], [0.20238623023033142], [0.20010337233543396], [0.19783946871757507], [0.19559387862682343], [0.19336722791194916], [0.19116102159023285], [0.18897755444049835], [0.18681931495666504], [0.18468885123729706], [0.18258878588676453], [0.18052154779434204], [0.17848935723304749], [0.1764940321445465], [0.1745370328426361], [0.17261962592601776], [0.17074260115623474], [0.1689065396785736], [0.1671115905046463]]\n"
     ]
    }
   ],
   "metadata": {}
  },
  {
   "cell_type": "code",
   "execution_count": 66,
   "source": [
    "day_new=np.arange(1,101)\n",
    "day_pred=np.arange(101,131)"
   ],
   "outputs": [],
   "metadata": {}
  },
  {
   "cell_type": "code",
   "execution_count": 67,
   "source": [
    "import matplotlib.pyplot as plt"
   ],
   "outputs": [],
   "metadata": {}
  },
  {
   "cell_type": "code",
   "execution_count": 68,
   "source": [
    "len(df1)"
   ],
   "outputs": [
    {
     "output_type": "execute_result",
     "data": {
      "text/plain": [
       "1235"
      ]
     },
     "metadata": {},
     "execution_count": 68
    }
   ],
   "metadata": {}
  },
  {
   "cell_type": "code",
   "execution_count": 69,
   "source": [
    "df3=df1.tolist()\n",
    "df3.extend(lst_output)"
   ],
   "outputs": [],
   "metadata": {}
  },
  {
   "cell_type": "code",
   "execution_count": 71,
   "source": [
    "plt.plot(day_new,scaler.inverse_transform(df1[1135:]))\n",
    "plt.plot(day_pred,scaler.inverse_transform(lst_output))"
   ],
   "outputs": [
    {
     "output_type": "execute_result",
     "data": {
      "text/plain": [
       "[<matplotlib.lines.Line2D at 0x19b1c1f4ca0>]"
      ]
     },
     "metadata": {},
     "execution_count": 71
    },
    {
     "output_type": "display_data",
     "data": {
      "image/png": "[encoded data removed]",
      "text/plain": [
       "<Figure size 432x288 with 1 Axes>"
      ]
     },
     "metadata": {
      "needs_background": "light"
     }
    }
   ],
   "metadata": {}
  },
  {
   "cell_type": "code",
   "execution_count": 74,
   "source": [
    "df3=df1.tolist()\r\n",
    "df3.extend(lst_output)\r\n",
    "plt.plot(df3[900:])"
   ],
   "outputs": [
    {
     "output_type": "execute_result",
     "data": {
      "text/plain": [
       "[<matplotlib.lines.Line2D at 0x19b1c2f8e20>]"
      ]
     },
     "metadata": {},
     "execution_count": 74
    },
    {
     "output_type": "display_data",
     "data": {
      "image/png": "[encoded data removed]",
      "text/plain": [
       "<Figure size 432x288 with 1 Axes>"
      ]
     },
     "metadata": {
      "needs_background": "light"
     }
    }
   ],
   "metadata": {}
  },
  {
   "cell_type": "code",
   "execution_count": null,
   "source": [],
   "outputs": [],
   "metadata": {}
  }
 ],
 "metadata": {
  "kernelspec": {
   "display_name": "Python 3 (ipykernel)",
   "language": "python",
   "name": "python3"
  },
  "language_info": {
   "codemirror_mode": {
    "name": "ipython",
    "version": 3
   },
   "file_extension": ".py",
   "mimetype": "text/x-python",
   "name": "python",
   "nbconvert_exporter": "python",
   "pygments_lexer": "ipython3",
   "version": "3.9.12"
  }
 },
 "nbformat": 4,
 "nbformat_minor": 5
}